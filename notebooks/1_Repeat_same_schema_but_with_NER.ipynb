{
 "cells": [
  {
   "cell_type": "code",
   "execution_count": 2,
   "id": "incorrect-chain",
   "metadata": {},
   "outputs": [
    {
     "name": "stderr",
     "output_type": "stream",
     "text": [
      "[nltk_data] Downloading package stopwords to\n",
      "[nltk_data]     C:\\Users\\i100v\\AppData\\Roaming\\nltk_data...\n",
      "[nltk_data]   Package stopwords is already up-to-date!\n"
     ]
    }
   ],
   "source": [
    "import re, pprint, os, numpy,string\n",
    "import pandas as pd\n",
    "import nltk\n",
    "from nltk.tokenize import word_tokenize\n",
    "from sklearn.metrics.cluster import *\n",
    "from sklearn.cluster import AgglomerativeClustering\n",
    "from sklearn.metrics.cluster import adjusted_rand_score\n",
    "import nltk.corpus\n",
    "nltk.download('stopwords')\n",
    "from nltk.corpus import stopwords\n",
    "from nltk.stem import PorterStemmer, WordNetLemmatizer\n",
    "from nltk.stem.snowball import SnowballStemmer\n",
    "from deep_translator import GoogleTranslator\n",
    "from langdetect import detect\n",
    "import numpy as np\n",
    "import matplotlib.pyplot as plt\n",
    "from sklearn.feature_extraction.text import TfidfVectorizer\n",
    "from collections import Counter\n",
    "import seaborn as sns"
   ]
  },
  {
   "cell_type": "code",
   "execution_count": 3,
   "id": "antique-illness",
   "metadata": {},
   "outputs": [],
   "source": [
    "def read_files(path):\n",
    "    print(\"Reading files...\")\n",
    "    listing = os.listdir(folder)\n",
    "    texts=[]\n",
    "    for file in listing:\n",
    "        if file.endswith(\".txt\"):\n",
    "            url = folder+\"/\"+file\n",
    "            f = open(url,encoding=\"latin-1\");\n",
    "            raw = f.read()\n",
    "            f.close()\n",
    "            texts.append(raw)\n",
    "    return texts\n",
    "\n",
    "def  first_rude_clean_text(texts):\n",
    "    for txt in range(len(texts)):\n",
    "        texts[txt] = texts[txt].lower()\n",
    "        texts[txt]=re.sub('<.*?>', '', texts[txt])\n",
    "        texts[txt] = re.sub(\"\\n\",\"\",texts[txt])\n",
    "        texts[txt] = re.sub(r\"(@[A-Za-z]+)|([^A-Za-z \\t])|(\\w+:\\/\\/\\S+)|^rt|http.+?\", \"\", texts[txt]) \n",
    "        \n",
    "    return texts\n",
    "        \n",
    "def translate_texts(texts):\n",
    "    print(\"Translating...\")\n",
    "    for txt in range(len(texts)):\n",
    "        if detect(texts[txt])=='es':\n",
    "            if(len(texts[txt])>4000):\n",
    "                chunks, chunk_size = len(texts[txt])//4000, 4000\n",
    "                chunks_txt= [ texts[txt][i:i+chunk_size] for i in range(0, chunks, chunk_size) ]\n",
    "                for j in range(len(chunks_txt)):\n",
    "                    chunks_txt[j] = GoogleTranslator(source='es', target='en').translate(chunks_txt[j])\n",
    "                texts[txt]=''.join(chunks_txt)\n",
    "            else:\n",
    "                texts[txt]=GoogleTranslator(source='es', target='en').translate(texts[txt])\n",
    "    return texts\n",
    "    \n",
    "def tokenize_texts(texts):\n",
    "    for txt in range(len(texts)):\n",
    "        texts[txt]=word_tokenize(texts[txt])\n",
    "    return texts  \n",
    "\n",
    "def clean_stop_words_punct (texts):\n",
    "    stop = stopwords.words('english')\n",
    "    punct = list(string.punctuation)\n",
    "    for txt_tok in range(len(texts)):\n",
    "        texts[txt_tok] = [w for w in texts[txt_tok] if w not in (stop) and w not in (punct) ]\n",
    "    return texts\n",
    "\n",
    "def first_processing(texts):\n",
    "    texts=first_rude_clean_text(texts)\n",
    "    texts=translate_texts(texts)\n",
    "    texts=tokenize_texts(texts)\n",
    "    texts=clean_stop_words_punct(texts)\n",
    "    return texts\n",
    "       \n",
    "def stemmer_text(texts):\n",
    "    stemmer = SnowballStemmer(\"english\")\n",
    "    for txt_tok in range(len(texts)):\n",
    "        texts[txt_tok] = [stemmer.stem(t) for t in texts[txt_tok]]\n",
    "    return texts\n",
    "        \n",
    "def lemman_text(texts):\n",
    "    for txt_tok in range(len(texts)):\n",
    "        texts[txt_tok] = [WordNetLemmatizer().lemmatize(w) for w in texts[txt_tok]]\n",
    "    return texts\n",
    "\n",
    "def get_term_matrix(texts):\n",
    "    total_w=set()\n",
    "    for txt in texts:\n",
    "        for w in txt:\n",
    "            total_w.add(w)\n",
    "    total_words=list(total_w)\n",
    "    table=[]\n",
    "    for text in texts:\n",
    "        row=np.zeros(len(total_words))\n",
    "        for word in text:\n",
    "            index=total_words.index(word)\n",
    "            row[index]+=1\n",
    "        table.append(row)\n",
    "    df=pd.DataFrame(table)\n",
    "    df.columns=total_words\n",
    "    return df"
   ]
  },
  {
   "cell_type": "code",
   "execution_count": 4,
   "id": "important-tsunami",
   "metadata": {},
   "outputs": [
    {
     "name": "stdout",
     "output_type": "stream",
     "text": [
      "Reading files...\n",
      "Translating...\n"
     ]
    }
   ],
   "source": [
    "folder = \"../data/\"\n",
    "texts=read_files(folder)\n",
    "texts=first_processing(texts)"
   ]
  },
  {
   "cell_type": "code",
   "execution_count": 5,
   "id": "meaningful-spoke",
   "metadata": {
    "scrolled": false
   },
   "outputs": [
    {
     "data": {
      "text/plain": "<AxesSubplot:>"
     },
     "execution_count": 5,
     "metadata": {},
     "output_type": "execute_result"
    },
    {
     "data": {
      "text/plain": "<Figure size 432x288 with 1 Axes>",
      "image/png": "[encoded data removed]"
     },
     "metadata": {
      "needs_background": "light"
     },
     "output_type": "display_data"
    }
   ],
   "source": [
    "import spacy\n",
    "nlp = spacy.load(\"en_core_web_sm\")\n",
    "\n",
    "def ner(text):\n",
    "    doc=nlp(text)\n",
    "    return [X.label_ for X in doc.ents]\n",
    "\n",
    "joined=[]\n",
    "for i in texts:\n",
    "    joined.append(' '.join(i))\n",
    "\n",
    "df=pd.DataFrame(joined)\n",
    "df.columns=['text']\n",
    "ent=df['text'].apply(lambda x : ner(x))\n",
    "ent=[x for sub in ent for x in sub]\n",
    "counter=Counter(ent)\n",
    "count=counter.most_common()\n",
    "x,y=map(list,zip(*count))\n",
    "sns.barplot(x=y,y=x)\n"
   ]
  },
  {
   "cell_type": "code",
   "execution_count": null,
   "id": "victorian-female",
   "metadata": {
    "pycharm": {
     "is_executing": true
    }
   },
   "outputs": [
    {
     "name": "stderr",
     "output_type": "stream",
     "text": [
      "D:\\AnacondaPython\\envs\\NLP\\lib\\site-packages\\seaborn\\_decorators.py:43: FutureWarning: Pass the following variables as keyword args: x, y. From version 0.12, the only valid positional argument will be `data`, and passing other arguments without an explicit keyword will result in an error or misinterpretation.\n",
      "  FutureWarning\n",
      "D:\\AnacondaPython\\envs\\NLP\\lib\\site-packages\\seaborn\\_decorators.py:43: FutureWarning: Pass the following variables as keyword args: x, y. From version 0.12, the only valid positional argument will be `data`, and passing other arguments without an explicit keyword will result in an error or misinterpretation.\n",
      "  FutureWarning\n",
      "D:\\AnacondaPython\\envs\\NLP\\lib\\site-packages\\seaborn\\_decorators.py:43: FutureWarning: Pass the following variables as keyword args: x, y. From version 0.12, the only valid positional argument will be `data`, and passing other arguments without an explicit keyword will result in an error or misinterpretation.\n",
      "  FutureWarning\n"
     ]
    }
   ],
   "source": [
    "def ner(text,ent=\"ORG\"):\n",
    "    doc=nlp(text)\n",
    "    return [X.text for X in doc.ents if X.label_ == ent]\n",
    "j=0\n",
    "fig, ax = plt.subplots (ncols=2,nrows=2,figsize=(12,7),constrained_layout=False)\n",
    "i=0\n",
    "for tipe in ['ORG','DATE','PERSON','GPE']:\n",
    "    gpe=df['text'].apply(lambda x: ner(x,tipe))\n",
    "    gpe=[i for x in gpe for i in x]\n",
    "    counter=Counter(gpe)\n",
    "    x,y=map(list,zip(*counter.most_common(10)))\n",
    "    sns.barplot(y,x,ax=ax[j,i])\n",
    "    ax[j,i].title.set_text('ER: '+tipe)\n",
    "    j=j+1\n",
    "    if j==2:\n",
    "        i=1\n",
    "        j=0\n",
    "plt.show()"
   ]
  },
  {
   "cell_type": "code",
   "execution_count": null,
   "id": "ignored-huntington",
   "metadata": {
    "pycharm": {
     "is_executing": true
    }
   },
   "outputs": [],
   "source": [
    "def pos(text):\n",
    "    pos=nltk.pos_tag(word_tokenize(text))\n",
    "    pos=list(map(list,zip(*pos)))[1]\n",
    "    return pos\n",
    "tags=df['text'].apply(lambda x : pos(x))\n",
    "tags=[x for l in tags for x in l]\n",
    "counter=Counter(tags)\n",
    "x,y=list(map(list,zip(*counter.most_common(7))))\n",
    "sns.barplot(x=y,y=x)"
   ]
  },
  {
   "cell_type": "code",
   "execution_count": null,
   "id": "distinct-jenny",
   "metadata": {
    "pycharm": {
     "is_executing": true
    }
   },
   "outputs": [],
   "source": [
    "def get_adjs(text,tipe):\n",
    "    adj=[]\n",
    "    pos=nltk.pos_tag(word_tokenize(text))\n",
    "    for word,tag in pos:\n",
    "        if tag==tipe:\n",
    "            adj.append(word)\n",
    "    return adj\n",
    "\n",
    "j=0\n",
    "fig, ax = plt.subplots (ncols=2,nrows=2,figsize=(12,7),constrained_layout=False)\n",
    "i=0\n",
    "for tipe in ['NN','JJ','NNS','VBD']:\n",
    "    words=df['text'].apply(lambda x : get_adjs(x,tipe))\n",
    "    words=[x for l in words for x in l]\n",
    "    counter=Counter(words)\n",
    "    x,y=list(map(list,zip(*counter.most_common(7))))\n",
    "    sns.barplot(y,x,ax=ax[j,i])\n",
    "    ax[j,i].title.set_text('POS: '+tipe)\n",
    "    j=j+1\n",
    "    if j==2:\n",
    "        i=1\n",
    "        j=0\n",
    "plt.show()"
   ]
  },
  {
   "cell_type": "code",
   "execution_count": null,
   "id": "theoretical-dressing",
   "metadata": {
    "pycharm": {
     "is_executing": true
    }
   },
   "outputs": [],
   "source": [
    "from nltk.sentiment.vader import SentimentIntensityAnalyzer\n",
    "nltk.download('vader_lexicon')\n",
    "sid = SentimentIntensityAnalyzer()\n",
    "def get_vader_score(sent):\n",
    "    # Polarity score returns dictionary\n",
    "    ss = sid.polarity_scores(sent)\n",
    "    #return ss\n",
    "    return np.argmax(list(ss.values())[:-1])\n",
    "\n",
    "df['pol']=df['text'].map(lambda x: get_vader_score(x))\n",
    "polarity=df['pol'].replace({0:'neg',1:'neu',2:'pos'})\n",
    "plt.bar(polarity.value_counts().index,\n",
    "        polarity.value_counts())\n",
    "df"
   ]
  },
  {
   "cell_type": "code",
   "execution_count": null,
   "id": "athletic-immunology",
   "metadata": {
    "pycharm": {
     "is_executing": true
    }
   },
   "outputs": [],
   "source": [
    "from textblob import TextBlob\n",
    "def polarity(text):\n",
    "    return TextBlob(text).sentiment.polarity\n",
    "df['pol_scr']=df['text'].apply(lambda x : polarity(x))\n",
    "df['pol_scr'].hist()"
   ]
  },
  {
   "cell_type": "code",
   "execution_count": null,
   "id": "contained-pottery",
   "metadata": {
    "pycharm": {
     "is_executing": true
    }
   },
   "outputs": [],
   "source": [
    "def sentiment(x):\n",
    "    if x<0:\n",
    "        return 'neg'\n",
    "    elif x==0:\n",
    "        return 'neu'\n",
    "    else:\n",
    "        return 'pos'\n",
    "    \n",
    "df['pol']=df['pol_scr'].map(lambda x: sentiment(x))\n",
    "plt.bar(df.pol.value_counts().index,\n",
    "       df.pol.value_counts())"
   ]
  },
  {
   "cell_type": "code",
   "execution_count": null,
   "id": "dried-photographer",
   "metadata": {
    "pycharm": {
     "is_executing": true
    }
   },
   "outputs": [],
   "source": []
  }
 ],
 "metadata": {
  "kernelspec": {
   "name": "pycharm-db506fac",
   "language": "python",
   "display_name": "PyCharm (NLPPractica)"
  },
  "language_info": {
   "codemirror_mode": {
    "name": "ipython",
    "version": 3
   },
   "file_extension": ".py",
   "mimetype": "text/x-python",
   "name": "python",
   "nbconvert_exporter": "python",
   "pygments_lexer": "ipython3",
   "version": "3.7.9"
  }
 },
 "nbformat": 4,
 "nbformat_minor": 5
}