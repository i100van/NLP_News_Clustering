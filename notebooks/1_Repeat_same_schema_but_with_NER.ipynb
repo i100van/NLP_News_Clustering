{
 "cells": [
  {
   "cell_type": "code",
   "execution_count": 1,
   "id": "incorrect-chain",
   "metadata": {},
   "outputs": [
    {
     "name": "stderr",
     "output_type": "stream",
     "text": [
      "[nltk_data] Downloading package stopwords to\n",
      "[nltk_data]     C:\\Users\\i100v\\AppData\\Roaming\\nltk_data...\n",
      "[nltk_data]   Package stopwords is already up-to-date!\n"
     ]
    }
   ],
   "source": [
    "import re, pprint, os, numpy,string\n",
    "import pandas as pd\n",
    "import nltk\n",
    "from nltk.tokenize import word_tokenize\n",
    "from sklearn.metrics.cluster import *\n",
    "from sklearn.cluster import AgglomerativeClustering\n",
    "from sklearn.metrics.cluster import adjusted_rand_score\n",
    "import nltk.corpus\n",
    "nltk.download('stopwords')\n",
    "from nltk.corpus import stopwords\n",
    "from nltk.stem import PorterStemmer, WordNetLemmatizer\n",
    "from nltk.stem.snowball import SnowballStemmer\n",
    "from deep_translator import GoogleTranslator\n",
    "from langdetect import detect\n",
    "import numpy as np\n",
    "import matplotlib.pyplot as plt\n",
    "from sklearn.feature_extraction.text import TfidfVectorizer\n",
    "from collections import Counter\n",
    "import seaborn as sns"
   ]
  },
  {
   "cell_type": "code",
   "execution_count": 2,
   "id": "antique-illness",
   "metadata": {},
   "outputs": [],
   "source": [
    "def read_files(path):\n",
    "    print(\"Reading files...\")\n",
    "    listing = os.listdir(folder)\n",
    "    texts=[]\n",
    "    for file in listing:\n",
    "        if file.endswith(\".txt\"):\n",
    "            url = folder+\"/\"+file\n",
    "            f = open(url,encoding=\"latin-1\");\n",
    "            raw = f.read()\n",
    "            f.close()\n",
    "            texts.append(raw)\n",
    "    return texts\n",
    "\n",
    "def  first_rude_clean_text(texts):\n",
    "    for txt in range(len(texts)):\n",
    "        texts[txt] = texts[txt].lower()\n",
    "        texts[txt]=re.sub('<.*?>', '', texts[txt])\n",
    "        texts[txt] = re.sub(\"\\n\",\"\",texts[txt])\n",
    "        texts[txt] = re.sub(r\"(@[A-Za-z]+)|([^A-Za-z \\t])|(\\w+:\\/\\/\\S+)|^rt|http.+?\", \"\", texts[txt]) \n",
    "        \n",
    "    return texts\n",
    "        \n",
    "def translate_texts(texts):\n",
    "    print(\"Translating...\")\n",
    "    for txt in range(len(texts)):\n",
    "        if detect(texts[txt])=='es':\n",
    "            if(len(texts[txt])>4000):\n",
    "                chunks, chunk_size = len(texts[txt])//4000, 4000\n",
    "                chunks_txt= [ texts[txt][i:i+chunk_size] for i in range(0, chunks, chunk_size) ]\n",
    "                for j in range(len(chunks_txt)):\n",
    "                    chunks_txt[j] = GoogleTranslator(source='es', target='en').translate(chunks_txt[j])\n",
    "                texts[txt]=''.join(chunks_txt)\n",
    "            else:\n",
    "                texts[txt]=GoogleTranslator(source='es', target='en').translate(texts[txt])\n",
    "    return texts\n",
    "    \n",
    "def tokenize_texts(texts):\n",
    "    for txt in range(len(texts)):\n",
    "        texts[txt]=word_tokenize(texts[txt])\n",
    "    return texts  \n",
    "\n",
    "def clean_stop_words_punct (texts):\n",
    "    stop = stopwords.words('english')\n",
    "    punct = list(string.punctuation)\n",
    "    for txt_tok in range(len(texts)):\n",
    "        texts[txt_tok] = [w for w in texts[txt_tok] if w not in (stop) and w not in (punct) ]\n",
    "    return texts\n",
    "\n",
    "def first_processing(texts):\n",
    "    texts=first_rude_clean_text(texts)\n",
    "    texts=translate_texts(texts)\n",
    "    texts=tokenize_texts(texts)\n",
    "    texts=clean_stop_words_punct(texts)\n",
    "    return texts\n",
    "       \n",
    "def stemmer_text(texts):\n",
    "    stemmer = SnowballStemmer(\"english\")\n",
    "    for txt_tok in range(len(texts)):\n",
    "        texts[txt_tok] = [stemmer.stem(t) for t in texts[txt_tok]]\n",
    "    return texts\n",
    "        \n",
    "def lemman_text(texts):\n",
    "    for txt_tok in range(len(texts)):\n",
    "        texts[txt_tok] = [WordNetLemmatizer().lemmatize(w) for w in texts[txt_tok]]\n",
    "    return texts\n",
    "\n",
    "def get_term_matrix(texts):\n",
    "    total_w=set()\n",
    "    for txt in texts:\n",
    "        for w in txt:\n",
    "            total_w.add(w)\n",
    "    total_words=list(total_w)\n",
    "    table=[]\n",
    "    for text in texts:\n",
    "        row=np.zeros(len(total_words))\n",
    "        for word in text:\n",
    "            index=total_words.index(word)\n",
    "            row[index]+=1\n",
    "        table.append(row)\n",
    "    df=pd.DataFrame(table)\n",
    "    df.columns=total_words\n",
    "    return df"
   ]
  },
  {
   "cell_type": "code",
   "execution_count": 3,
   "id": "important-tsunami",
   "metadata": {},
   "outputs": [
    {
     "name": "stdout",
     "output_type": "stream",
     "text": [
      "Reading files...\n",
      "Translating...\n"
     ]
    }
   ],
   "source": [
    "folder = \"../data/\"\n",
    "texts=read_files(folder)\n",
    "texts=first_processing(texts)"
   ]
  },
  {
   "cell_type": "code",
   "execution_count": 13,
   "id": "meaningful-spoke",
   "metadata": {
    "scrolled": false
   },
   "outputs": [
    {
     "data": {
      "text/plain": [
       "<AxesSubplot:>"
      ]
     },
     "execution_count": 13,
     "metadata": {},
     "output_type": "execute_result"
    },
    {
     "data": {
      "image/png": "[encoded data removed]",
      "text/plain": [
       "<Figure size 432x288 with 1 Axes>"
      ]
     },
     "metadata": {
      "needs_background": "light"
     },
     "output_type": "display_data"
    }
   ],
   "source": [
    "import spacy\n",
    "nlp = spacy.load(\"en_core_web_sm\")\n",
    "\n",
    "def ner(text):\n",
    "    doc=nlp(text)\n",
    "    return [X.label_ for X in doc.ents]\n",
    "\n",
    "joined=[]\n",
    "for i in texts:\n",
    "    joined.append(' '.join(i))\n",
    "\n",
    "df=pd.DataFrame(joined)\n",
    "df.columns=['text']\n",
    "ent=df['text'].apply(lambda x : ner(x))\n",
    "ent=[x for sub in ent for x in sub]\n",
    "counter=Counter(ent)\n",
    "count=counter.most_common()\n",
    "x,y=map(list,zip(*count))\n",
    "sns.barplot(x=y,y=x)\n"
   ]
  },
  {
   "cell_type": "code",
   "execution_count": 52,
   "id": "victorian-female",
   "metadata": {},
   "outputs": [
    {
     "name": "stderr",
     "output_type": "stream",
     "text": [
      "D:\\AnacondaPython\\envs\\NLP\\lib\\site-packages\\seaborn\\_decorators.py:43: FutureWarning: Pass the following variables as keyword args: x, y. From version 0.12, the only valid positional argument will be `data`, and passing other arguments without an explicit keyword will result in an error or misinterpretation.\n",
      "  FutureWarning\n",
      "D:\\AnacondaPython\\envs\\NLP\\lib\\site-packages\\seaborn\\_decorators.py:43: FutureWarning: Pass the following variables as keyword args: x, y. From version 0.12, the only valid positional argument will be `data`, and passing other arguments without an explicit keyword will result in an error or misinterpretation.\n",
      "  FutureWarning\n",
      "D:\\AnacondaPython\\envs\\NLP\\lib\\site-packages\\seaborn\\_decorators.py:43: FutureWarning: Pass the following variables as keyword args: x, y. From version 0.12, the only valid positional argument will be `data`, and passing other arguments without an explicit keyword will result in an error or misinterpretation.\n",
      "  FutureWarning\n",
      "D:\\AnacondaPython\\envs\\NLP\\lib\\site-packages\\seaborn\\_decorators.py:43: FutureWarning: Pass the following variables as keyword args: x, y. From version 0.12, the only valid positional argument will be `data`, and passing other arguments without an explicit keyword will result in an error or misinterpretation.\n",
      "  FutureWarning\n"
     ]
    },
    {
     "data": {
      "image/png": "[encoded data removed]",
      "text/plain": [
       "<Figure size 864x504 with 4 Axes>"
      ]
     },
     "metadata": {
      "needs_background": "light"
     },
     "output_type": "display_data"
    }
   ],
   "source": [
    "def ner(text,ent=\"ORG\"):\n",
    "    doc=nlp(text)\n",
    "    return [X.text for X in doc.ents if X.label_ == ent]\n",
    "j=0\n",
    "fig, ax = plt.subplots (ncols=2,nrows=2,figsize=(12,7),constrained_layout=False)\n",
    "i=0\n",
    "for tipe in ['ORG','DATE','PERSON','GPE']:\n",
    "    gpe=df['text'].apply(lambda x: ner(x,tipe))\n",
    "    gpe=[i for x in gpe for i in x]\n",
    "    counter=Counter(gpe)\n",
    "    x,y=map(list,zip(*counter.most_common(10)))\n",
    "    sns.barplot(y,x,ax=ax[j,i])\n",
    "    ax[j,i].title.set_text('ER: '+tipe)\n",
    "    j=j+1\n",
    "    if j==2:\n",
    "        i=1\n",
    "        j=0\n",
    "plt.show()"
   ]
  },
  {
   "cell_type": "code",
   "execution_count": 20,
   "id": "ignored-huntington",
   "metadata": {},
   "outputs": [
    {
     "data": {
      "text/plain": [
       "<AxesSubplot:>"
      ]
     },
     "execution_count": 20,
     "metadata": {},
     "output_type": "execute_result"
    },
    {
     "data": {
      "image/png": "[encoded data removed]",
      "text/plain": [
       "<Figure size 432x288 with 1 Axes>"
      ]
     },
     "metadata": {
      "needs_background": "light"
     },
     "output_type": "display_data"
    }
   ],
   "source": [
    "def pos(text):\n",
    "    pos=nltk.pos_tag(word_tokenize(text))\n",
    "    pos=list(map(list,zip(*pos)))[1]\n",
    "    return pos\n",
    "tags=df['text'].apply(lambda x : pos(x))\n",
    "tags=[x for l in tags for x in l]\n",
    "counter=Counter(tags)\n",
    "x,y=list(map(list,zip(*counter.most_common(7))))\n",
    "sns.barplot(x=y,y=x)"
   ]
  },
  {
   "cell_type": "code",
   "execution_count": 54,
   "id": "distinct-jenny",
   "metadata": {},
   "outputs": [
    {
     "name": "stderr",
     "output_type": "stream",
     "text": [
      "D:\\AnacondaPython\\envs\\NLP\\lib\\site-packages\\seaborn\\_decorators.py:43: FutureWarning: Pass the following variables as keyword args: x, y. From version 0.12, the only valid positional argument will be `data`, and passing other arguments without an explicit keyword will result in an error or misinterpretation.\n",
      "  FutureWarning\n",
      "D:\\AnacondaPython\\envs\\NLP\\lib\\site-packages\\seaborn\\_decorators.py:43: FutureWarning: Pass the following variables as keyword args: x, y. From version 0.12, the only valid positional argument will be `data`, and passing other arguments without an explicit keyword will result in an error or misinterpretation.\n",
      "  FutureWarning\n",
      "D:\\AnacondaPython\\envs\\NLP\\lib\\site-packages\\seaborn\\_decorators.py:43: FutureWarning: Pass the following variables as keyword args: x, y. From version 0.12, the only valid positional argument will be `data`, and passing other arguments without an explicit keyword will result in an error or misinterpretation.\n",
      "  FutureWarning\n",
      "D:\\AnacondaPython\\envs\\NLP\\lib\\site-packages\\seaborn\\_decorators.py:43: FutureWarning: Pass the following variables as keyword args: x, y. From version 0.12, the only valid positional argument will be `data`, and passing other arguments without an explicit keyword will result in an error or misinterpretation.\n",
      "  FutureWarning\n"
     ]
    },
    {
     "data": {
      "image/png": "[encoded data removed]",
      "text/plain": [
       "<Figure size 864x504 with 4 Axes>"
      ]
     },
     "metadata": {
      "needs_background": "light"
     },
     "output_type": "display_data"
    }
   ],
   "source": [
    "def get_adjs(text,tipe):\n",
    "    adj=[]\n",
    "    pos=nltk.pos_tag(word_tokenize(text))\n",
    "    for word,tag in pos:\n",
    "        if tag==tipe:\n",
    "            adj.append(word)\n",
    "    return adj\n",
    "\n",
    "j=0\n",
    "fig, ax = plt.subplots (ncols=2,nrows=2,figsize=(12,7),constrained_layout=False)\n",
    "i=0\n",
    "for tipe in ['NN','JJ','NNS','VBD']:\n",
    "    words=df['text'].apply(lambda x : get_adjs(x,tipe))\n",
    "    words=[x for l in words for x in l]\n",
    "    counter=Counter(words)\n",
    "    x,y=list(map(list,zip(*counter.most_common(7))))\n",
    "    sns.barplot(y,x,ax=ax[j,i])\n",
    "    ax[j,i].title.set_text('POS: '+tipe)\n",
    "    j=j+1\n",
    "    if j==2:\n",
    "        i=1\n",
    "        j=0\n",
    "plt.show()"
   ]
  },
  {
   "cell_type": "code",
   "execution_count": 28,
   "id": "theoretical-dressing",
   "metadata": {},
   "outputs": [
    {
     "name": "stderr",
     "output_type": "stream",
     "text": [
      "[nltk_data] Downloading package vader_lexicon to\n",
      "[nltk_data]     C:\\Users\\i100v\\AppData\\Roaming\\nltk_data...\n",
      "[nltk_data]   Package vader_lexicon is already up-to-date!\n"
     ]
    },
    {
     "data": {
      "text/html": [
       "<div>\n",
       "<style scoped>\n",
       "    .dataframe tbody tr th:only-of-type {\n",
       "        vertical-align: middle;\n",
       "    }\n",
       "\n",
       "    .dataframe tbody tr th {\n",
       "        vertical-align: top;\n",
       "    }\n",
       "\n",
       "    .dataframe thead th {\n",
       "        text-align: right;\n",
       "    }\n",
       "</style>\n",
       "<table border=\"1\" class=\"dataframe\">\n",
       "  <thead>\n",
       "    <tr style=\"text-align: right;\">\n",
       "      <th></th>\n",
       "      <th>text</th>\n",
       "      <th>pol</th>\n",
       "    </tr>\n",
       "  </thead>\n",
       "  <tbody>\n",
       "    <tr>\n",
       "      <th>0</th>\n",
       "      <td>browser longer compatible visit country best e...</td>\n",
       "      <td>1</td>\n",
       "    </tr>\n",
       "    <tr>\n",
       "      <th>1</th>\n",
       "      <td>efe prominent saud activist defender human rig...</td>\n",
       "      <td>1</td>\n",
       "    </tr>\n",
       "    <tr>\n",
       "      <th>2</th>\n",
       "      <td>experience live buy tickets formula races auto...</td>\n",
       "      <td>1</td>\n",
       "    </tr>\n",
       "    <tr>\n",
       "      <th>3</th>\n",
       "      <td>browser longer compatible visit country best e...</td>\n",
       "      <td>1</td>\n",
       "    </tr>\n",
       "    <tr>\n",
       "      <th>4</th>\n",
       "      <td>Formula Formula Fernando Alonso hit vehicle Th...</td>\n",
       "      <td>1</td>\n",
       "    </tr>\n",
       "    <tr>\n",
       "      <th>5</th>\n",
       "      <td>news fernando alonso conscious well road cycli...</td>\n",
       "      <td>1</td>\n",
       "    </tr>\n",
       "    <tr>\n",
       "      <th>6</th>\n",
       "      <td>us president joe biden rescinded national emer...</td>\n",
       "      <td>1</td>\n",
       "    </tr>\n",
       "    <tr>\n",
       "      <th>7</th>\n",
       "      <td>browser longer compatible visit country best e...</td>\n",
       "      <td>1</td>\n",
       "    </tr>\n",
       "    <tr>\n",
       "      <th>8</th>\n",
       "      <td>Image source us coast guard district people ca...</td>\n",
       "      <td>1</td>\n",
       "    </tr>\n",
       "    <tr>\n",
       "      <th>9</th>\n",
       "      <td>last news see month subscribe months already s...</td>\n",
       "      <td>1</td>\n",
       "    </tr>\n",
       "    <tr>\n",
       "      <th>10</th>\n",
       "      <td>The international stars movement decided spend...</td>\n",
       "      <td>1</td>\n",
       "    </tr>\n",
       "    <tr>\n",
       "      <th>11</th>\n",
       "      <td>internationalcatalunya debate catalan election...</td>\n",
       "      <td>1</td>\n",
       "    </tr>\n",
       "    <tr>\n",
       "      <th>12</th>\n",
       "      <td>Actuality ascomla cne sita already count proce...</td>\n",
       "      <td>1</td>\n",
       "    </tr>\n",
       "    <tr>\n",
       "      <th>13</th>\n",
       "      <td>cable news networka warner media companyall ri...</td>\n",
       "      <td>1</td>\n",
       "    </tr>\n",
       "    <tr>\n",
       "      <th>14</th>\n",
       "      <td>This Sunday Ecuador held uncertain presidentia...</td>\n",
       "      <td>1</td>\n",
       "    </tr>\n",
       "    <tr>\n",
       "      <th>15</th>\n",
       "      <td>cocaine seizure province huelva national polic...</td>\n",
       "      <td>1</td>\n",
       "    </tr>\n",
       "    <tr>\n",
       "      <th>16</th>\n",
       "      <td>The prominent human rights activist Saud Louja...</td>\n",
       "      <td>1</td>\n",
       "    </tr>\n",
       "    <tr>\n",
       "      <th>17</th>\n",
       "      <td>loujain alhathloul saudi womens rights activis...</td>\n",
       "      <td>1</td>\n",
       "    </tr>\n",
       "    <tr>\n",
       "      <th>18</th>\n",
       "      <td>widespread global condemnation arrest zein jaf...</td>\n",
       "      <td>1</td>\n",
       "    </tr>\n",
       "    <tr>\n",
       "      <th>19</th>\n",
       "      <td>The United States Coast Guard rescued three Cu...</td>\n",
       "      <td>1</td>\n",
       "    </tr>\n",
       "    <tr>\n",
       "      <th>20</th>\n",
       "      <td>The United States Coast Guard rescued three Cu...</td>\n",
       "      <td>1</td>\n",
       "    </tr>\n",
       "    <tr>\n",
       "      <th>21</th>\n",
       "      <td>saudi activist loujain alhathloul released sau...</td>\n",
       "      <td>1</td>\n",
       "    </tr>\n",
       "    <tr>\n",
       "      <th>22</th>\n",
       "      <td>welcome determined declaration national emerge...</td>\n",
       "      <td>1</td>\n",
       "    </tr>\n",
       "    <tr>\n",
       "      <th>23</th>\n",
       "      <td>president joe biden cancelled funding donald t...</td>\n",
       "      <td>1</td>\n",
       "    </tr>\n",
       "  </tbody>\n",
       "</table>\n",
       "</div>"
      ],
      "text/plain": [
       "                                                 text  pol\n",
       "0   browser longer compatible visit country best e...    1\n",
       "1   efe prominent saud activist defender human rig...    1\n",
       "2   experience live buy tickets formula races auto...    1\n",
       "3   browser longer compatible visit country best e...    1\n",
       "4   Formula Formula Fernando Alonso hit vehicle Th...    1\n",
       "5   news fernando alonso conscious well road cycli...    1\n",
       "6   us president joe biden rescinded national emer...    1\n",
       "7   browser longer compatible visit country best e...    1\n",
       "8   Image source us coast guard district people ca...    1\n",
       "9   last news see month subscribe months already s...    1\n",
       "10  The international stars movement decided spend...    1\n",
       "11  internationalcatalunya debate catalan election...    1\n",
       "12  Actuality ascomla cne sita already count proce...    1\n",
       "13  cable news networka warner media companyall ri...    1\n",
       "14  This Sunday Ecuador held uncertain presidentia...    1\n",
       "15  cocaine seizure province huelva national polic...    1\n",
       "16  The prominent human rights activist Saud Louja...    1\n",
       "17  loujain alhathloul saudi womens rights activis...    1\n",
       "18  widespread global condemnation arrest zein jaf...    1\n",
       "19  The United States Coast Guard rescued three Cu...    1\n",
       "20  The United States Coast Guard rescued three Cu...    1\n",
       "21  saudi activist loujain alhathloul released sau...    1\n",
       "22  welcome determined declaration national emerge...    1\n",
       "23  president joe biden cancelled funding donald t...    1"
      ]
     },
     "execution_count": 28,
     "metadata": {},
     "output_type": "execute_result"
    },
    {
     "data": {
      "image/png": "[encoded data removed]",
      "text/plain": [
       "<Figure size 432x288 with 1 Axes>"
      ]
     },
     "metadata": {
      "needs_background": "light"
     },
     "output_type": "display_data"
    }
   ],
   "source": [
    "from nltk.sentiment.vader import SentimentIntensityAnalyzer\n",
    "nltk.download('vader_lexicon')\n",
    "sid = SentimentIntensityAnalyzer()\n",
    "def get_vader_score(sent):\n",
    "    # Polarity score returns dictionary\n",
    "    ss = sid.polarity_scores(sent)\n",
    "    #return ss\n",
    "    return np.argmax(list(ss.values())[:-1])\n",
    "\n",
    "df['pol']=df['text'].map(lambda x: get_vader_score(x))\n",
    "polarity=df['pol'].replace({0:'neg',1:'neu',2:'pos'})\n",
    "plt.bar(polarity.value_counts().index,\n",
    "        polarity.value_counts())\n",
    "df"
   ]
  },
  {
   "cell_type": "code",
   "execution_count": 56,
   "id": "athletic-immunology",
   "metadata": {},
   "outputs": [
    {
     "data": {
      "text/plain": [
       "<AxesSubplot:>"
      ]
     },
     "execution_count": 56,
     "metadata": {},
     "output_type": "execute_result"
    },
    {
     "data": {
      "image/png": "[encoded data removed]",
      "text/plain": [
       "<Figure size 432x288 with 1 Axes>"
      ]
     },
     "metadata": {
      "needs_background": "light"
     },
     "output_type": "display_data"
    }
   ],
   "source": [
    "from textblob import TextBlob\n",
    "def polarity(text):\n",
    "    return TextBlob(text).sentiment.polarity\n",
    "df['pol_scr']=df['text'].apply(lambda x : polarity(x))\n",
    "df['pol_scr'].hist()"
   ]
  },
  {
   "cell_type": "code",
   "execution_count": 57,
   "id": "contained-pottery",
   "metadata": {},
   "outputs": [
    {
     "data": {
      "text/plain": [
       "<BarContainer object of 2 artists>"
      ]
     },
     "execution_count": 57,
     "metadata": {},
     "output_type": "execute_result"
    },
    {
     "data": {
      "image/png": "[encoded data removed]",
      "text/plain": [
       "<Figure size 432x288 with 1 Axes>"
      ]
     },
     "metadata": {
      "needs_background": "light"
     },
     "output_type": "display_data"
    }
   ],
   "source": [
    "def sentiment(x):\n",
    "    if x<0:\n",
    "        return 'neg'\n",
    "    elif x==0:\n",
    "        return 'neu'\n",
    "    else:\n",
    "        return 'pos'\n",
    "    \n",
    "df['pol']=df['pol_scr'].map(lambda x: sentiment(x))\n",
    "plt.bar(df.pol.value_counts().index,\n",
    "       df.pol.value_counts())"
   ]
  },
  {
   "cell_type": "code",
   "execution_count": null,
   "id": "dried-photographer",
   "metadata": {},
   "outputs": [],
   "source": []
  }
 ],
 "metadata": {
  "kernelspec": {
   "display_name": "Python 3",
   "language": "python",
   "name": "python3"
  },
  "language_info": {
   "codemirror_mode": {
    "name": "ipython",
    "version": 3
   },
   "file_extension": ".py",
   "mimetype": "text/x-python",
   "name": "python",
   "nbconvert_exporter": "python",
   "pygments_lexer": "ipython3",
   "version": "3.7.9"
  }
 },
 "nbformat": 4,
 "nbformat_minor": 5
}
